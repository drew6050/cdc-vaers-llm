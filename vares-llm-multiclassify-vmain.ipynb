{
 "cells": [
  {
   "cell_type": "markdown",
   "metadata": {},
   "source": [
    "### A Fine-Tuned LLM DistilBERT to Classify User VARES Adverse Event Symptoms Text Descriptions \n",
    "#### To predict more than just the first symptom (SYMPTOM1), a different approach is needed to handle multiple label prediction. This is typically done using a multi-label classification setup, where each symptom is treated as a separate label, and the model learns to predict the presence or absence of each symptom independently (using a MultiLabelBinarizer)."
   ]
  },
  {
   "cell_type": "code",
   "execution_count": 1,
   "metadata": {},
   "outputs": [],
   "source": [
    "import pandas as pd\n",
    "from sklearn.preprocessing import MultiLabelBinarizer\n",
    "\n",
    "# Load and preprocess the VAERS data and symptoms\n",
    "vaers_data_path = 'data/2023VAERSDATA.csv'\n",
    "vaers_symptoms_path = 'data/2023VAERSSYMPTOMS.csv'\n",
    "vaers_data = pd.read_csv(vaers_data_path, encoding='ISO-8859-1')\n",
    "vaers_symptoms = pd.read_csv(vaers_symptoms_path, encoding='ISO-8859-1')\n",
    "\n",
    "# Merge datasets on VAERS_ID\n",
    "merged_data = vaers_data.merge(vaers_symptoms, on='VAERS_ID')\n",
    "merged_data['SYMPTOM_TEXT'] = merged_data['SYMPTOM_TEXT'].astype(str)\n",
    "\n",
    "# Concatenate symptoms into a single string for each row\n",
    "merged_data['ALL_SYMPTOMS'] = merged_data[['SYMPTOM1', 'SYMPTOM2', 'SYMPTOM3', 'SYMPTOM4', 'SYMPTOM5']].apply(lambda x: ', '.join(x.dropna().astype(str)), axis=1)\n",
    "\n",
    "# Group by VAERS_ID and aggregate data\n",
    "grouped = merged_data.groupby('VAERS_ID').agg({\n",
    "    # Include all necessary columns here\n",
    "    'SYMPTOM_TEXT': 'first',\n",
    "    'ALL_SYMPTOMS': ' '.join\n",
    "}).reset_index()\n",
    "\n",
    "# Split the 'ALL_SYMPTOMS' into a list of symptoms\n",
    "grouped['ALL_SYMPTOMS'] = grouped['ALL_SYMPTOMS'].str.split(', ')\n",
    "\n",
    "# Initialize MultiLabelBinarizer\n",
    "mlb = MultiLabelBinarizer()\n",
    "\n",
    "# Transform the symptoms into a multi-label format\n",
    "grouped['Encoded_Symptoms'] = list(mlb.fit_transform(grouped['ALL_SYMPTOMS']))\n",
    "\n",
    "# Now 'Encoded_Symptoms' column contains a binary matrix suitable for multi-label classification\n"
   ]
  }
 ],
 "metadata": {
  "kernelspec": {
   "display_name": "Python 3 (ipykernel)",
   "language": "python",
   "name": "python3"
  },
  "language_info": {
   "codemirror_mode": {
    "name": "ipython",
    "version": 3
   },
   "file_extension": ".py",
   "mimetype": "text/x-python",
   "name": "python",
   "nbconvert_exporter": "python",
   "pygments_lexer": "ipython3",
   "version": "3.11.6"
  }
 },
 "nbformat": 4,
 "nbformat_minor": 4
}
